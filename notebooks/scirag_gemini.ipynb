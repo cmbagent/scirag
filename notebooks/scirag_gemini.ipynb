{
 "cells": [
  {
   "cell_type": "code",
   "execution_count": 1,
   "id": "85569f61",
   "metadata": {},
   "outputs": [],
   "source": [
    "import os\n",
    "from dotenv import load_dotenv\n",
    "load_dotenv()\n",
    "os.environ[\"GOOGLE_APPLICATION_CREDENTIALS\"] = \"gemini.json\"\n",
    "\n",
    "api_key = os.environ.get(\"OPENAI_API_KEY\")\n",
    "if api_key is None:\n",
    "    raise RuntimeError(\"Please set the OPENAI_API_KEY \")"
   ]
  },
  {
   "cell_type": "code",
<<<<<<< HEAD
   "execution_count": 2,
=======
   "execution_count": 15,
>>>>>>> April
   "id": "c48b79b9-297d-48db-8be0-71aa21a918a7",
   "metadata": {},
   "outputs": [
    {
<<<<<<< HEAD
     "name": "stderr",
     "output_type": "stream",
     "text": [
      "/Users/apple/opt/anaconda3/envs/myenv/lib/python3.11/site-packages/tqdm/auto.py:21: TqdmWarning: IProgress not found. Please update jupyter and ipywidgets. See https://ipywidgets.readthedocs.io/en/stable/user_install.html\n",
      "  from .autonotebook import tqdm as notebook_tqdm\n"
     ]
    },
    {
=======
>>>>>>> April
     "name": "stdout",
     "output_type": "stream",
     "text": [
      "  Loaded 2503.14454v1.md\n",
      "  Loaded 2010.00619v2.md\n",
<<<<<<< HEAD
      "  Loaded 1807.06209v4.md\n",
      "  Loaded 1604.01424v3.md\n",
      "Total markdown documents loaded: 4\n",
      "Splitting documents into chunks...\n",
      "Created 282 chunks from 4 documents\n",
      "Building contextual retrieval index...\n",
      "Processed 282 chunks\n",
      "Initializing embeddings and vector database...\n",
      "Loading existing embeddings from: /Users/apple/Documents/GitHub/scirag_paperqa/scirag/embeddings/openai_text-embedding-3-large_embeddings.npy\n",
      "Creating vector database...\n",
      "Collection sci_openai_text_embedding_3_large not found: Collection [sci_openai_text_embedding_3_large] does not exists\n",
      "No existing collection found: Collection [sci_rag_chunks] does not exists\n",
      "Creating new ChromaDB collection...\n",
      "Deleted existing collection: sci_rag_chunks_openai_text_embedding_3_large\n",
      "Stored 282 chunks in ChromaDB collection 'sci_rag_chunks_openai_text_embedding_3_large' at /Users/apple/Documents/GitHub/scirag_paperqa/scirag/embeddings/chromadb\n",
      "Collection sci_openai_text_embedding_3_large not found: Collection [sci_openai_text_embedding_3_large] does not exists\n",
      "Loaded fallback ChromaDB collection: sci_rag_chunks_openai_text_embedding_3_large\n",
      "ChromaDB vector DB built successfully with 282 chunks\n"
=======
      "  Loaded 2201.02202v1.md\n",
      "  Loaded 1807.06209v4.md\n",
      "  Loaded 1604.01424v3.md\n",
      "Total markdown documents loaded: 5\n",
      "Splitting documents into chunks...\n",
      "Created 305 chunks from 5 documents\n",
      "Building contextual retrieval index...\n",
      "Processed 305 chunks\n",
      "Initializing embeddings and vector database...\n",
      "Checking for existing embeddings at: /Users/apple/Documents/GitHub/scirag_paperqa/scirag/embeddings/openai_text-embedding-3-large_embeddings.npy\n",
      "Loading existing embeddings from: /Users/apple/Documents/GitHub/scirag_paperqa/scirag/embeddings/openai_text-embedding-3-large_embeddings.npy\n",
      "Creating vector database...\n",
      "Loaded existing ChromaDB collection: sci_rag_chunks_openai_text_embedding_3_large\n",
      "Loaded existing ChromaDB collection\n"
>>>>>>> April
     ]
    }
   ],
   "source": [
    "from IPython.display import display, Markdown\n",
    "from scirag import SciRagHybrid, SciRagDataSet\n",
    "\n",
    "\n",
    "scirag = SciRagHybrid(\n",
    "    embedding_provider=\"openai\",\n",
    "    openai_embedding_model=\"text-embedding-3-large\",\n",
    "    vector_db_backend=\"chromadb\"\n",
    ") \n",
    "dataset = SciRagDataSet()"
   ]
  },
  {
   "cell_type": "code",
<<<<<<< HEAD
   "execution_count": 3,
=======
   "execution_count": 16,
>>>>>>> April
   "id": "7c9af1f6-c3f3-45fa-8457-30b960af32f3",
   "metadata": {},
   "outputs": [],
   "source": [
    "qa = dataset.load_dataset()"
   ]
  },
  {
   "cell_type": "code",
<<<<<<< HEAD
   "execution_count": 4,
=======
   "execution_count": 17,
>>>>>>> April
   "id": "e505a6e1-6554-4ec1-b8d0-75754e469397",
   "metadata": {},
   "outputs": [
    {
     "name": "stdout",
     "output_type": "stream",
     "text": [
<<<<<<< HEAD
      "CPU times: user 201 ms, sys: 42.9 ms, total: 244 ms\n",
      "Wall time: 5.45 s\n"
=======
      "\n",
      "--- SciRagHybrid Cost Summary ---\n",
      "Generation Model: gemini-2.5-flash-preview-05-20\n",
      "Input tokens: 20,837\n",
      "Output tokens: 94\n",
      "Total tokens: 20,931\n",
      "Generation cost: $0.003182\n",
      "Total session cost: $0.003182\n",
      "--- End Summary ---\n",
      "\n",
      "CPU times: user 41.7 ms, sys: 30.5 ms, total: 72.2 ms\n",
      "Wall time: 3.46 s\n"
>>>>>>> April
     ]
    }
   ],
   "source": [
    "%%time\n",
    "qid = 4\n",
    "question = qa['question'].iloc[qid]\n",
    "response = scirag.get_response(question)"
   ]
  },
  {
   "cell_type": "code",
<<<<<<< HEAD
   "execution_count": 5,
=======
   "execution_count": 13,
>>>>>>> April
   "id": "17f7dcfd-0b1e-4e66-a4c4-195f91a2c3e9",
   "metadata": {},
   "outputs": [
    {
     "data": {
      "text/markdown": [
       "How large is the impact of beam window functions on the 2018 spectra in the baseline Plik likelihood?"
      ],
      "text/plain": [
       "<IPython.core.display.Markdown object>"
      ]
     },
     "metadata": {},
     "output_type": "display_data"
    }
   ],
   "source": [
    "display(Markdown(question))"
   ]
  },
  {
   "cell_type": "code",
<<<<<<< HEAD
   "execution_count": 6,
=======
   "execution_count": 14,
>>>>>>> April
   "id": "9bb98b0e-fdf6-4c82-a3fa-efa685899cbb",
   "metadata": {},
   "outputs": [
    {
     "data": {
      "text/markdown": [
       "**Answer**:\n",
       "\n",
<<<<<<< HEAD
       "In the 2018 release, the application of beam window functions calculated for the specific sky fraction retained at each frequency had a small impact on the spectra in the baseline Plik likelihood, at approximately 0.1% at \\ell=2000.\n",
=======
       "The 2018 spectra in the baseline Plik likelihood incorporate a beam-leakage model in their fiducial theoretical spectra. The use of spectrum-based polarization efficiency estimates, which are related to beam effects, has a small but non-negligible impact on cosmological parameters, resulting in small shifts in the base-ΛCDM model.\n",
>>>>>>> April
       "\n",
       "**Sources**:\n",
       "\n",
       "1807.06209v4.md\n"
      ],
      "text/plain": [
       "<IPython.core.display.Markdown object>"
      ]
     },
     "metadata": {},
     "output_type": "display_data"
    }
   ],
   "source": [
    "display(Markdown(response))"
   ]
  },
  {
   "cell_type": "code",
   "execution_count": 7,
   "id": "c395213b-7bb6-4c19-b436-f8574ad571b3",
   "metadata": {},
   "outputs": [
    {
     "data": {
      "text/plain": [
       "'approximately 0.1% at l=2000'"
      ]
     },
     "execution_count": 7,
     "metadata": {},
     "output_type": "execute_result"
    }
   ],
   "source": [
    "qa['ideal'].iloc[qid]"
   ]
  },
  {
   "cell_type": "code",
   "execution_count": 8,
   "id": "e57644eb-5f5d-43a0-96a0-9bbaa1ee7aad",
   "metadata": {},
   "outputs": [
    {
     "data": {
      "text/plain": [
       "'p6; sec2.2.1'"
      ]
     },
     "execution_count": 8,
     "metadata": {},
     "output_type": "execute_result"
    }
   ],
   "source": [
    "qa['Location'].iloc[qid]"
   ]
  },
  {
   "cell_type": "code",
   "execution_count": 9,
<<<<<<< HEAD
   "id": "deb4842d-a1dd-4d46-aced-708244f49ca0",
=======
   "id": "4ba91f2e",
>>>>>>> April
   "metadata": {},
   "outputs": [
    {
     "data": {
      "text/plain": [
<<<<<<< HEAD
       "{'Cost': [], 'Prompt Tokens': [], 'Completion Tokens': [], 'Total Tokens': []}"
=======
       "0.0031819499999999994"
>>>>>>> April
      ]
     },
     "execution_count": 9,
     "metadata": {},
     "output_type": "execute_result"
    }
   ],
   "source": [
<<<<<<< HEAD
    "scirag.cost_dict"
=======
    "scirag.get_total_cost()"
>>>>>>> April
   ]
  }
 ],
 "metadata": {
  "kernelspec": {
   "display_name": "myenv",
   "language": "python",
   "name": "python3"
  },
  "language_info": {
   "codemirror_mode": {
    "name": "ipython",
    "version": 3
   },
   "file_extension": ".py",
   "mimetype": "text/x-python",
   "name": "python",
   "nbconvert_exporter": "python",
   "pygments_lexer": "ipython3",
   "version": "3.11.11"
  }
 },
 "nbformat": 4,
 "nbformat_minor": 5
}
