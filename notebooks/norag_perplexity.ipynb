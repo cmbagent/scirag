{
 "cells": [
  {
   "cell_type": "code",
   "execution_count": 1,
   "id": "ea83f7e6",
   "metadata": {},
   "outputs": [],
   "source": [
    "import os\n",
    "from dotenv import load_dotenv\n",
    "load_dotenv()\n",
    "os.environ[\"GOOGLE_APPLICATION_CREDENTIALS\"] = \"gemini.json\"\n",
    "\n",
    "api_key = os.environ.get(\"PERPLEXITY_API_KEY\")\n",
    "if api_key is None:\n",
    "    raise RuntimeError(\"Please set the PERPLEXITY_API_KEY \")"
   ]
  },
  {
   "cell_type": "code",
   "execution_count": 2,
   "id": "13323e6e",
   "metadata": {},
   "outputs": [
    {
     "name": "stderr",
     "output_type": "stream",
     "text": [
      "/Users/apple/opt/anaconda3/envs/myenv/lib/python3.11/site-packages/pybtex/plugin/__init__.py:26: UserWarning: pkg_resources is deprecated as an API. See https://setuptools.pypa.io/en/latest/pkg_resources.html. The pkg_resources package is slated for removal as early as 2025-11-30. Refrain from using this package or pin to Setuptools<81.\n",
      "  import pkg_resources\n"
     ]
    }
   ],
   "source": [
    "from IPython.display import display, Markdown\n",
    "from scirag import PerplexityAgent, SciRagDataSet\n",
    "\n",
    "scirag = PerplexityAgent()\n",
    "dataset = SciRagDataSet()"
   ]
  },
  {
   "cell_type": "code",
   "execution_count": 3,
   "id": "d463d60a",
   "metadata": {},
   "outputs": [],
   "source": [
    "qa = dataset.load_dataset()"
   ]
  },
  {
   "cell_type": "code",
   "execution_count": 4,
   "id": "e8d14d8f",
   "metadata": {},
   "outputs": [
    {
     "name": "stdout",
     "output_type": "stream",
     "text": [
      "Parsed answer: The beam window function impact on the 2018 Planck spectra in the baseline Plik likelihood is explic...\n",
      "Parsed sources: ['[1] Planck Collaboration (2018) §3.2.1 and §4.1.3: Beam window functions contribute < 0.2% uncertainty to temperature power spectra (TT) at multipoles ℓ > 1000 in the Plik likelihood. This represents a subdominant but non-negligible systematic compared to statistical errors (0.3-0.5% in this range). The beam transfer function uncertainty accounts for ~15% of the total systematic error budget for TT spectra at 143 GHz.', '[1] Planck Collaboration (2018) Table 4: Beam corrections induce angular scale-dependent effects, with maximum absolute shifts of 0.25σ in cosmological parameters when comparing with/without beam marginalization in the Plik likelihood analysis.']\n",
      "Source info type: <class 'list'>\n",
      "Processed sources: ['[1] Planck Collaboration (2018) §3.2.1 and §4.1.3: Beam window functions contribute < 0.2% uncertainty to temperature power spectra (TT) at multipoles ℓ > 1000 in the Plik likelihood. This represents a subdominant but non-negligible systematic compared to statistical errors (0.3-0.5% in this range). The beam transfer function uncertainty accounts for ~15% of the total systematic error budget for TT spectra at 143 GHz.', '[1] Planck Collaboration (2018) Table 4: Beam corrections induce angular scale-dependent effects, with maximum absolute shifts of 0.25σ in cosmological parameters when comparing with/without beam marginalization in the Plik likelihood analysis.']\n",
      "CPU times: user 13.8 ms, sys: 14.3 ms, total: 28.1 ms\n",
      "Wall time: 26.5 s\n"
     ]
    }
   ],
   "source": [
    "%%time\n",
    "qid = 4\n",
    "question = qa['question'].iloc[qid]\n",
    "response = scirag.get_response(question)"
   ]
  },
  {
   "cell_type": "code",
   "execution_count": 5,
   "id": "5ff4527a",
   "metadata": {},
   "outputs": [
    {
     "data": {
      "text/markdown": [
       "How large is the impact of beam window functions on the 2018 spectra in the baseline Plik likelihood?"
      ],
      "text/plain": [
       "<IPython.core.display.Markdown object>"
      ]
     },
     "metadata": {},
     "output_type": "display_data"
    }
   ],
   "source": [
    "display(Markdown(question))"
   ]
  },
  {
   "cell_type": "code",
   "execution_count": 6,
   "id": "ed54cbf5",
   "metadata": {},
   "outputs": [
    {
     "data": {
      "text/markdown": [
       "**Answer**:\n",
       "\n",
       "The beam window function impact on the 2018 Planck spectra in the baseline Plik likelihood is explicitly addressed in the Planck 2018 results [1]. The analysis shows:\n",
       "\n",
       "**Sources**:\n",
       "\n",
       "(No valid sources found)\n"
      ],
      "text/plain": [
       "<IPython.core.display.Markdown object>"
      ]
     },
     "metadata": {},
     "output_type": "display_data"
    }
   ],
   "source": [
    "display(Markdown(response))"
   ]
  },
  {
   "cell_type": "code",
   "execution_count": 7,
   "id": "da2f80e5",
   "metadata": {},
   "outputs": [
    {
     "data": {
      "text/plain": [
       "'approximately 0.1% at l=2000'"
      ]
     },
     "execution_count": 7,
     "metadata": {},
     "output_type": "execute_result"
    }
   ],
   "source": [
    "qa['ideal'].iloc[qid]"
   ]
  },
  {
   "cell_type": "code",
   "execution_count": null,
   "id": "ab1d01ba",
   "metadata": {},
   "outputs": [],
   "source": [
    "scirag.get_cost_summary()"
   ]
  }
 ],
 "metadata": {
  "kernelspec": {
   "display_name": "myenv",
   "language": "python",
   "name": "python3"
  },
  "language_info": {
   "codemirror_mode": {
    "name": "ipython",
    "version": 3
   },
   "file_extension": ".py",
   "mimetype": "text/x-python",
   "name": "python",
   "nbconvert_exporter": "python",
   "pygments_lexer": "ipython3",
   "version": "3.11.11"
  }
 },
 "nbformat": 4,
 "nbformat_minor": 5
}
