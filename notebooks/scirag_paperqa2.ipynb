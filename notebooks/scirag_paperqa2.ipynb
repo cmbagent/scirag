{
 "cells": [
  {
   "cell_type": "code",
   "execution_count": 1,
   "metadata": {},
   "outputs": [],
   "source": [
    "import os\n",
    "from dotenv import load_dotenv\n",
    "load_dotenv()\n",
    "os.environ[\"GOOGLE_APPLICATION_CREDENTIALS\"] = \"gemini.json\"\n",
    "\n",
    "api_key = os.environ.get(\"OPENAI_API_KEY\")\n",
    "if api_key is None:\n",
    "    raise RuntimeError(\"Please set the OPENAI_API_KEY \")"
   ]
  },
  {
   "cell_type": "code",
   "execution_count": 19,
   "metadata": {},
   "outputs": [
    {
     "name": "stderr",
     "output_type": "stream",
     "text": [
      "/Users/apple/opt/anaconda3/envs/myenv/lib/python3.11/site-packages/tqdm/auto.py:21: TqdmWarning: IProgress not found. Please update jupyter and ipywidgets. See https://ipywidgets.readthedocs.io/en/stable/user_install.html\n",
      "  from .autonotebook import tqdm as notebook_tqdm\n"
     ]
    },
    {
     "name": "stdout",
     "output_type": "stream",
     "text": [
      "[SciRagPaperQA2] Building index on initialization...\n",
      "[SciRagPaperQA2] Checking for paper directory: /Users/apple/Documents/GitHub/scirag_paperqa/scirag/txt_files\n",
      "[SciRagPaperQA2] Building PaperQA2 document index (only happens once)...\n",
      "Using index: pqa_index_969208873c16842f6232653a9eca7e7a\n",
      "Index files: {'2201.02202v1.txt': 'a569bb587a9091300ba2f479aba3efc8', '1604.01424v3.txt': '70196f1a55258dc0d6ece83887dec601', '1807.06209v4.txt': '61f1a51953008a179d876dded8a7f3a1', '2010.00619v2.txt': 'cc0b6c6c76fe9a1b9132c0dd9de161bf', '2503.14454v1.txt': 'cc44e168db0f207acfe5c6a6f185e266'}\n",
      "[SciRagPaperQA2] Index built successfully.\n"
     ]
    }
   ],
   "source": [
    "from IPython.display import display, Markdown\n",
    "from scirag import SciRagPaperQA2, SciRagDataSet\n",
    "\n",
    "scirag = SciRagPaperQA2()\n",
    "dataset = SciRagDataSet()"
   ]
  },
  {
   "cell_type": "code",
   "execution_count": 12,
   "metadata": {},
   "outputs": [],
   "source": [
    "qa = dataset.load_dataset()"
   ]
  },
  {
   "cell_type": "code",
   "execution_count": 4,
   "metadata": {},
   "outputs": [
    {
     "data": {
      "text/html": [
<<<<<<< HEAD
       "<pre style=\"white-space:pre;overflow-x:auto;line-height:normal;font-family:Menlo,'DejaVu Sans Mono',consolas,'Courier New',monospace\"><span style=\"color: #7fbfbf; text-decoration-color: #7fbfbf\">[21:50:35] </span>Starting paper search for <span style=\"color: #008000; text-decoration-color: #008000\">'impact of beam window functions on 2018 spectra baseline Plik likelihood'</span>.   \n",
       "</pre>\n"
      ],
      "text/plain": [
       "\u001b[2;36m[21:50:35]\u001b[0m\u001b[2;36m \u001b[0mStarting paper search for \u001b[32m'impact of beam window functions on 2018 spectra baseline Plik likelihood'\u001b[0m.   \n"
=======
       "<pre style=\"white-space:pre;overflow-x:auto;line-height:normal;font-family:Menlo,'DejaVu Sans Mono',consolas,'Courier New',monospace\"><span style=\"color: #7fbfbf; text-decoration-color: #7fbfbf\">[21:04:06] </span>Starting paper search for <span style=\"color: #008000; text-decoration-color: #008000\">'CMB monopole temperature 68% confidence P-ACT-LB dataset'</span>.                   \n",
       "</pre>\n"
      ],
      "text/plain": [
       "\u001b[2;36m[21:04:06]\u001b[0m\u001b[2;36m \u001b[0mStarting paper search for \u001b[32m'CMB monopole temperature 68% confidence P-ACT-LB dataset'\u001b[0m.                   \n"
>>>>>>> April
      ]
     },
     "metadata": {},
     "output_type": "display_data"
    },
    {
     "data": {
      "text/html": [
<<<<<<< HEAD
       "<pre style=\"white-space:pre;overflow-x:auto;line-height:normal;font-family:Menlo,'DejaVu Sans Mono',consolas,'Courier New',monospace\"><span style=\"color: #7fbfbf; text-decoration-color: #7fbfbf\">           </span>paper_search for query <span style=\"color: #008000; text-decoration-color: #008000\">'impact of beam window functions on 2018 spectra baseline Plik likelihood'</span> and   \n",
       "<span style=\"color: #7fbfbf; text-decoration-color: #7fbfbf\">           </span>offset <span style=\"color: #008080; text-decoration-color: #008080; font-weight: bold\">0</span> returned <span style=\"color: #008080; text-decoration-color: #008080; font-weight: bold\">5</span> papers.                                                                             \n",
       "</pre>\n"
      ],
      "text/plain": [
       "\u001b[2;36m          \u001b[0m\u001b[2;36m \u001b[0mpaper_search for query \u001b[32m'impact of beam window functions on 2018 spectra baseline Plik likelihood'\u001b[0m and   \n",
       "\u001b[2;36m           \u001b[0moffset \u001b[1;36m0\u001b[0m returned \u001b[1;36m5\u001b[0m papers.                                                                             \n"
=======
       "<pre style=\"white-space:pre;overflow-x:auto;line-height:normal;font-family:Menlo,'DejaVu Sans Mono',consolas,'Courier New',monospace\"><span style=\"color: #7fbfbf; text-decoration-color: #7fbfbf\">           </span>paper_search for query <span style=\"color: #008000; text-decoration-color: #008000\">'CMB monopole temperature 68% confidence P-ACT-LB dataset'</span> and offset <span style=\"color: #008080; text-decoration-color: #008080; font-weight: bold\">0</span> returned \n",
       "<span style=\"color: #7fbfbf; text-decoration-color: #7fbfbf\">           </span><span style=\"color: #008080; text-decoration-color: #008080; font-weight: bold\">5</span> papers.                                                                                               \n",
       "</pre>\n"
      ],
      "text/plain": [
       "\u001b[2;36m          \u001b[0m\u001b[2;36m \u001b[0mpaper_search for query \u001b[32m'CMB monopole temperature 68% confidence P-ACT-LB dataset'\u001b[0m and offset \u001b[1;36m0\u001b[0m returned \n",
       "\u001b[2;36m           \u001b[0m\u001b[1;36m5\u001b[0m papers.                                                                                               \n"
>>>>>>> April
      ]
     },
     "metadata": {},
     "output_type": "display_data"
    },
    {
     "data": {
      "text/html": [
       "<pre style=\"white-space:pre;overflow-x:auto;line-height:normal;font-family:Menlo,'DejaVu Sans Mono',consolas,'Courier New',monospace\"><span style=\"color: #7fbfbf; text-decoration-color: #7fbfbf\">           </span>Status: Paper <span style=\"color: #808000; text-decoration-color: #808000\">Count</span>=<span style=\"color: #008080; text-decoration-color: #008080; font-weight: bold\">5</span> | Relevant <span style=\"color: #808000; text-decoration-color: #808000\">Papers</span>=<span style=\"color: #008080; text-decoration-color: #008080; font-weight: bold\">0</span> | Current <span style=\"color: #808000; text-decoration-color: #808000\">Evidence</span>=<span style=\"color: #008080; text-decoration-color: #008080; font-weight: bold\">0</span> | Current <span style=\"color: #808000; text-decoration-color: #808000\">Cost</span>=$<span style=\"color: #008080; text-decoration-color: #008080; font-weight: bold\">0.0016</span>                   \n",
       "</pre>\n"
      ],
      "text/plain": [
       "\u001b[2;36m          \u001b[0m\u001b[2;36m \u001b[0mStatus: Paper \u001b[33mCount\u001b[0m=\u001b[1;36m5\u001b[0m | Relevant \u001b[33mPapers\u001b[0m=\u001b[1;36m0\u001b[0m | Current \u001b[33mEvidence\u001b[0m=\u001b[1;36m0\u001b[0m | Current \u001b[33mCost\u001b[0m=$\u001b[1;36m0.0016\u001b[0m                   \n"
      ]
     },
     "metadata": {},
     "output_type": "display_data"
    },
    {
     "data": {
      "text/html": [
<<<<<<< HEAD
       "<pre style=\"white-space:pre;overflow-x:auto;line-height:normal;font-family:Menlo,'DejaVu Sans Mono',consolas,'Courier New',monospace\"><span style=\"color: #7fbfbf; text-decoration-color: #7fbfbf\">[21:50:41] </span>gather_evidence starting for question <span style=\"color: #008000; text-decoration-color: #008000\">'How large is the impact of beam window functions on the 2018 </span>    \n",
       "<span style=\"color: #7fbfbf; text-decoration-color: #7fbfbf\">           </span><span style=\"color: #008000; text-decoration-color: #008000\">spectra in the baseline Plik likelihood?'</span>.                                                              \n",
       "</pre>\n"
      ],
      "text/plain": [
       "\u001b[2;36m[21:50:41]\u001b[0m\u001b[2;36m \u001b[0mgather_evidence starting for question \u001b[32m'How large is the impact of beam window functions on the 2018 \u001b[0m    \n",
       "\u001b[2;36m           \u001b[0m\u001b[32mspectra in the baseline Plik likelihood?'\u001b[0m.                                                              \n"
=======
       "<pre style=\"white-space:pre;overflow-x:auto;line-height:normal;font-family:Menlo,'DejaVu Sans Mono',consolas,'Courier New',monospace\"><span style=\"color: #7fbfbf; text-decoration-color: #7fbfbf\">[21:04:07] </span>gather_evidence starting for question <span style=\"color: #008000; text-decoration-color: #008000\">'What is the CMB monopole temperature at the 68% CL, according to </span>\n",
       "<span style=\"color: #7fbfbf; text-decoration-color: #7fbfbf\">           </span><span style=\"color: #008000; text-decoration-color: #008000\">the P-ACT-LB dataset?'</span>.                                                                                 \n",
       "</pre>\n"
      ],
      "text/plain": [
       "\u001b[2;36m[21:04:07]\u001b[0m\u001b[2;36m \u001b[0mgather_evidence starting for question \u001b[32m'What is the CMB monopole temperature at the 68% CL, according to \u001b[0m\n",
       "\u001b[2;36m           \u001b[0m\u001b[32mthe P-ACT-LB dataset?'\u001b[0m.                                                                                 \n"
>>>>>>> April
      ]
     },
     "metadata": {},
     "output_type": "display_data"
    },
    {
     "data": {
      "text/html": [
<<<<<<< HEAD
       "<pre style=\"white-space:pre;overflow-x:auto;line-height:normal;font-family:Menlo,'DejaVu Sans Mono',consolas,'Courier New',monospace\"><span style=\"color: #7fbfbf; text-decoration-color: #7fbfbf\">[21:50:47] </span>Status: Paper <span style=\"color: #808000; text-decoration-color: #808000\">Count</span>=<span style=\"color: #008080; text-decoration-color: #008080; font-weight: bold\">5</span> | Relevant <span style=\"color: #808000; text-decoration-color: #808000\">Papers</span>=<span style=\"color: #008080; text-decoration-color: #008080; font-weight: bold\">1</span> | Current <span style=\"color: #808000; text-decoration-color: #808000\">Evidence</span>=<span style=\"color: #008080; text-decoration-color: #008080; font-weight: bold\">3</span> | Current <span style=\"color: #808000; text-decoration-color: #808000\">Cost</span>=$<span style=\"color: #008080; text-decoration-color: #008080; font-weight: bold\">0.0018</span>                   \n",
       "</pre>\n"
      ],
      "text/plain": [
       "\u001b[2;36m[21:50:47]\u001b[0m\u001b[2;36m \u001b[0mStatus: Paper \u001b[33mCount\u001b[0m=\u001b[1;36m5\u001b[0m | Relevant \u001b[33mPapers\u001b[0m=\u001b[1;36m1\u001b[0m | Current \u001b[33mEvidence\u001b[0m=\u001b[1;36m3\u001b[0m | Current \u001b[33mCost\u001b[0m=$\u001b[1;36m0.0018\u001b[0m                   \n"
=======
       "<pre style=\"white-space:pre;overflow-x:auto;line-height:normal;font-family:Menlo,'DejaVu Sans Mono',consolas,'Courier New',monospace\"><span style=\"color: #7fbfbf; text-decoration-color: #7fbfbf\">[21:06:13] </span>Status: Paper <span style=\"color: #808000; text-decoration-color: #808000\">Count</span>=<span style=\"color: #008080; text-decoration-color: #008080; font-weight: bold\">5</span> | Relevant <span style=\"color: #808000; text-decoration-color: #808000\">Papers</span>=<span style=\"color: #008080; text-decoration-color: #008080; font-weight: bold\">2</span> | Current <span style=\"color: #808000; text-decoration-color: #808000\">Evidence</span>=<span style=\"color: #008080; text-decoration-color: #008080; font-weight: bold\">8</span> | Current <span style=\"color: #808000; text-decoration-color: #808000\">Cost</span>=$<span style=\"color: #008080; text-decoration-color: #008080; font-weight: bold\">0.2018</span>                   \n",
       "</pre>\n"
      ],
      "text/plain": [
       "\u001b[2;36m[21:06:13]\u001b[0m\u001b[2;36m \u001b[0mStatus: Paper \u001b[33mCount\u001b[0m=\u001b[1;36m5\u001b[0m | Relevant \u001b[33mPapers\u001b[0m=\u001b[1;36m2\u001b[0m | Current \u001b[33mEvidence\u001b[0m=\u001b[1;36m8\u001b[0m | Current \u001b[33mCost\u001b[0m=$\u001b[1;36m0.2018\u001b[0m                   \n"
>>>>>>> April
      ]
     },
     "metadata": {},
     "output_type": "display_data"
    },
    {
     "data": {
      "text/html": [
<<<<<<< HEAD
       "<pre style=\"white-space:pre;overflow-x:auto;line-height:normal;font-family:Menlo,'DejaVu Sans Mono',consolas,'Courier New',monospace\"><span style=\"color: #7fbfbf; text-decoration-color: #7fbfbf\">           </span>Generating answer for <span style=\"color: #008000; text-decoration-color: #008000\">'How large is the impact of beam window functions on the 2018 spectra in the </span>     \n",
       "<span style=\"color: #7fbfbf; text-decoration-color: #7fbfbf\">           </span><span style=\"color: #008000; text-decoration-color: #008000\">baseline Plik likelihood?'</span>.                                                                             \n",
       "</pre>\n"
      ],
      "text/plain": [
       "\u001b[2;36m          \u001b[0m\u001b[2;36m \u001b[0mGenerating answer for \u001b[32m'How large is the impact of beam window functions on the 2018 spectra in the \u001b[0m     \n",
       "\u001b[2;36m           \u001b[0m\u001b[32mbaseline Plik likelihood?'\u001b[0m.                                                                             \n"
=======
       "<pre style=\"white-space:pre;overflow-x:auto;line-height:normal;font-family:Menlo,'DejaVu Sans Mono',consolas,'Courier New',monospace\"><span style=\"color: #7fbfbf; text-decoration-color: #7fbfbf\">[21:06:14] </span>Generating answer for <span style=\"color: #008000; text-decoration-color: #008000\">'What is the CMB monopole temperature at the 68% CL, according to the P-ACT-LB </span>   \n",
       "<span style=\"color: #7fbfbf; text-decoration-color: #7fbfbf\">           </span><span style=\"color: #008000; text-decoration-color: #008000\">dataset?'</span>.                                                                                              \n",
       "</pre>\n"
      ],
      "text/plain": [
       "\u001b[2;36m[21:06:14]\u001b[0m\u001b[2;36m \u001b[0mGenerating answer for \u001b[32m'What is the CMB monopole temperature at the 68% CL, according to the P-ACT-LB \u001b[0m   \n",
       "\u001b[2;36m           \u001b[0m\u001b[32mdataset?'\u001b[0m.                                                                                              \n"
>>>>>>> April
      ]
     },
     "metadata": {},
     "output_type": "display_data"
    },
    {
     "data": {
      "text/html": [
<<<<<<< HEAD
       "<pre style=\"white-space:pre;overflow-x:auto;line-height:normal;font-family:Menlo,'DejaVu Sans Mono',consolas,'Courier New',monospace\"><span style=\"color: #7fbfbf; text-decoration-color: #7fbfbf\">[21:50:50] </span>Status: Paper <span style=\"color: #808000; text-decoration-color: #808000\">Count</span>=<span style=\"color: #008080; text-decoration-color: #008080; font-weight: bold\">5</span> | Relevant <span style=\"color: #808000; text-decoration-color: #808000\">Papers</span>=<span style=\"color: #008080; text-decoration-color: #008080; font-weight: bold\">1</span> | Current <span style=\"color: #808000; text-decoration-color: #808000\">Evidence</span>=<span style=\"color: #008080; text-decoration-color: #008080; font-weight: bold\">3</span> | Current <span style=\"color: #808000; text-decoration-color: #808000\">Cost</span>=$<span style=\"color: #008080; text-decoration-color: #008080; font-weight: bold\">0.0026</span>                   \n",
       "</pre>\n"
      ],
      "text/plain": [
       "\u001b[2;36m[21:50:50]\u001b[0m\u001b[2;36m \u001b[0mStatus: Paper \u001b[33mCount\u001b[0m=\u001b[1;36m5\u001b[0m | Relevant \u001b[33mPapers\u001b[0m=\u001b[1;36m1\u001b[0m | Current \u001b[33mEvidence\u001b[0m=\u001b[1;36m3\u001b[0m | Current \u001b[33mCost\u001b[0m=$\u001b[1;36m0.0026\u001b[0m                   \n"
=======
       "<pre style=\"white-space:pre;overflow-x:auto;line-height:normal;font-family:Menlo,'DejaVu Sans Mono',consolas,'Courier New',monospace\"><span style=\"color: #7fbfbf; text-decoration-color: #7fbfbf\">[21:06:15] </span>Status: Paper <span style=\"color: #808000; text-decoration-color: #808000\">Count</span>=<span style=\"color: #008080; text-decoration-color: #008080; font-weight: bold\">5</span> | Relevant <span style=\"color: #808000; text-decoration-color: #808000\">Papers</span>=<span style=\"color: #008080; text-decoration-color: #008080; font-weight: bold\">2</span> | Current <span style=\"color: #808000; text-decoration-color: #808000\">Evidence</span>=<span style=\"color: #008080; text-decoration-color: #008080; font-weight: bold\">8</span> | Current <span style=\"color: #808000; text-decoration-color: #808000\">Cost</span>=$<span style=\"color: #008080; text-decoration-color: #008080; font-weight: bold\">0.2166</span>                   \n",
       "</pre>\n"
      ],
      "text/plain": [
       "\u001b[2;36m[21:06:15]\u001b[0m\u001b[2;36m \u001b[0mStatus: Paper \u001b[33mCount\u001b[0m=\u001b[1;36m5\u001b[0m | Relevant \u001b[33mPapers\u001b[0m=\u001b[1;36m2\u001b[0m | Current \u001b[33mEvidence\u001b[0m=\u001b[1;36m8\u001b[0m | Current \u001b[33mCost\u001b[0m=$\u001b[1;36m0.2166\u001b[0m                   \n"
>>>>>>> April
      ]
     },
     "metadata": {},
     "output_type": "display_data"
    },
    {
     "data": {
      "text/html": [
<<<<<<< HEAD
       "<pre style=\"white-space:pre;overflow-x:auto;line-height:normal;font-family:Menlo,'DejaVu Sans Mono',consolas,'Courier New',monospace\"><span style=\"color: #7fbfbf; text-decoration-color: #7fbfbf\">[21:50:51] </span>Completing <span style=\"color: #008000; text-decoration-color: #008000\">'How large is the impact of beam window functions on the 2018 spectra in the baseline Plik </span>  \n",
       "<span style=\"color: #7fbfbf; text-decoration-color: #7fbfbf\">           </span><span style=\"color: #008000; text-decoration-color: #008000\">likelihood?'</span> as <span style=\"color: #008000; text-decoration-color: #008000\">'certain'</span>.                                                                              \n",
       "</pre>\n"
      ],
      "text/plain": [
       "\u001b[2;36m[21:50:51]\u001b[0m\u001b[2;36m \u001b[0mCompleting \u001b[32m'How large is the impact of beam window functions on the 2018 spectra in the baseline Plik \u001b[0m  \n",
       "\u001b[2;36m           \u001b[0m\u001b[32mlikelihood?'\u001b[0m as \u001b[32m'certain'\u001b[0m.                                                                              \n"
=======
       "<pre style=\"white-space:pre;overflow-x:auto;line-height:normal;font-family:Menlo,'DejaVu Sans Mono',consolas,'Courier New',monospace\"><span style=\"color: #7fbfbf; text-decoration-color: #7fbfbf\">[21:06:16] </span>Completing <span style=\"color: #008000; text-decoration-color: #008000\">'What is the CMB monopole temperature at the 68% CL, according to the P-ACT-LB dataset?'</span> as  \n",
       "<span style=\"color: #7fbfbf; text-decoration-color: #7fbfbf\">           </span><span style=\"color: #008000; text-decoration-color: #008000\">'certain'</span>.                                                                                              \n",
       "</pre>\n"
      ],
      "text/plain": [
       "\u001b[2;36m[21:06:16]\u001b[0m\u001b[2;36m \u001b[0mCompleting \u001b[32m'What is the CMB monopole temperature at the 68% CL, according to the P-ACT-LB dataset?'\u001b[0m as  \n",
       "\u001b[2;36m           \u001b[0m\u001b[32m'certain'\u001b[0m.                                                                                              \n"
>>>>>>> April
      ]
     },
     "metadata": {},
     "output_type": "display_data"
    },
    {
     "data": {
      "text/html": [
<<<<<<< HEAD
       "<pre style=\"white-space:pre;overflow-x:auto;line-height:normal;font-family:Menlo,'DejaVu Sans Mono',consolas,'Courier New',monospace\"><span style=\"color: #7fbfbf; text-decoration-color: #7fbfbf\">           </span><span style=\"color: #000080; text-decoration-color: #000080; font-weight: bold\">Answer: The impact of beam window functions on the </span><span style=\"color: #008080; text-decoration-color: #008080; font-weight: bold\">2018</span><span style=\"color: #000080; text-decoration-color: #000080; font-weight: bold\"> spectra in the baseline Plik likelihood is </span>     \n",
       "<span style=\"color: #7fbfbf; text-decoration-color: #7fbfbf\">           </span><span style=\"color: #000080; text-decoration-color: #000080; font-weight: bold\">small, approximately </span><span style=\"color: #008080; text-decoration-color: #008080; font-weight: bold\">0.1</span><span style=\"color: #000080; text-decoration-color: #000080; font-weight: bold\">% at </span><span style=\"color: #808000; text-decoration-color: #808000; font-weight: bold\">ℓ</span><span style=\"color: #000080; text-decoration-color: #000080; font-weight: bold\">=</span><span style=\"color: #008080; text-decoration-color: #008080; font-weight: bold\">2000</span><span style=\"color: #000080; text-decoration-color: #000080; font-weight: bold\">, due to a new approach that applies beam window functions calculated</span>\n",
       "<span style=\"color: #7fbfbf; text-decoration-color: #7fbfbf\">           </span><span style=\"color: #000080; text-decoration-color: #000080; font-weight: bold\">for the specific sky fraction retained at each frequency (aghanim2020&lt;</span><span style=\"color: #ff00ff; text-decoration-color: #ff00ff; font-weight: bold\">i</span><span style=\"color: #000000; text-decoration-color: #000000; font-weight: bold\">&gt;planck&lt;i&gt;2018results chunk </span><span style=\"color: #008080; text-decoration-color: #008080; font-weight: bold\">8</span><span style=\"color: #000000; text-decoration-color: #000000; font-weight: bold\">). </span> \n",
       "<span style=\"color: #7fbfbf; text-decoration-color: #7fbfbf\">           </span><span style=\"color: #000000; text-decoration-color: #000000; font-weight: bold\">However, the context also indicates that while the influence of beam window functions is acknowledged, </span> \n",
       "<span style=\"color: #7fbfbf; text-decoration-color: #7fbfbf\">           </span><span style=\"color: #000000; text-decoration-color: #000000; font-weight: bold\">explicit quantitative details on their overall impact are not provided </span>                                 \n",
       "<span style=\"color: #7fbfbf; text-decoration-color: #7fbfbf\">           </span><span style=\"color: #000000; text-decoration-color: #000000; font-weight: bold\">(aghanim2020&lt;i&gt;planck&lt;i</span><span style=\"color: #000080; text-decoration-color: #000080; font-weight: bold\">&gt;2018results chunk </span><span style=\"color: #008080; text-decoration-color: #008080; font-weight: bold\">7</span><span style=\"color: #000080; text-decoration-color: #000080; font-weight: bold\">).</span>                                                           \n",
       "</pre>\n"
      ],
      "text/plain": [
       "\u001b[2;36m          \u001b[0m\u001b[2;36m \u001b[0m\u001b[1;34mAnswer: The impact of beam window functions on the \u001b[0m\u001b[1;36m2018\u001b[0m\u001b[1;34m spectra in the baseline Plik likelihood is \u001b[0m     \n",
       "\u001b[2;36m           \u001b[0m\u001b[1;34msmall, approximately \u001b[0m\u001b[1;36m0.1\u001b[0m\u001b[1;34m% at \u001b[0m\u001b[1;33mℓ\u001b[0m\u001b[1;34m=\u001b[0m\u001b[1;36m2000\u001b[0m\u001b[1;34m, due to a new approach that applies beam window functions calculated\u001b[0m\n",
       "\u001b[2;36m           \u001b[0m\u001b[1;34mfor the specific sky fraction retained at each frequency \u001b[0m\u001b[1;34m(\u001b[0m\u001b[1;34maghanim2020\u001b[0m\u001b[1;34m<\u001b[0m\u001b[1;95mi\u001b[0m\u001b[1;39m>planck<i>2018results chunk \u001b[0m\u001b[1;36m8\u001b[0m\u001b[1;39m)\u001b[0m\u001b[1;39m. \u001b[0m \n",
       "\u001b[2;36m           \u001b[0m\u001b[1;39mHowever, the context also indicates that while the influence of beam window functions is acknowledged, \u001b[0m \n",
       "\u001b[2;36m           \u001b[0m\u001b[1;39mexplicit quantitative details on their overall impact are not provided \u001b[0m                                 \n",
       "\u001b[2;36m           \u001b[0m\u001b[1;39m(\u001b[0m\u001b[1;39maghanim2020<i>planck<i\u001b[0m\u001b[1;34m>\u001b[0m\u001b[1;34m2018results chunk \u001b[0m\u001b[1;36m7\u001b[0m\u001b[1;34m)\u001b[0m\u001b[1;34m.\u001b[0m                                                           \n"
=======
       "<pre style=\"white-space:pre;overflow-x:auto;line-height:normal;font-family:Menlo,'DejaVu Sans Mono',consolas,'Courier New',monospace\"><span style=\"color: #7fbfbf; text-decoration-color: #7fbfbf\">[21:06:17] </span><span style=\"color: #000080; text-decoration-color: #000080; font-weight: bold\">Answer: The CMB monopole temperature at the </span><span style=\"color: #008080; text-decoration-color: #008080; font-weight: bold\">68</span><span style=\"color: #000080; text-decoration-color: #000080; font-weight: bold\">% confidence level (CL), according to the P-ACT-LB </span>       \n",
       "<span style=\"color: #7fbfbf; text-decoration-color: #7fbfbf\">           </span><span style=\"color: #000080; text-decoration-color: #000080; font-weight: bold\">dataset, is T_CMB = </span><span style=\"color: #008080; text-decoration-color: #008080; font-weight: bold\">2.698</span><span style=\"color: #000080; text-decoration-color: #000080; font-weight: bold\"> ± </span><span style=\"color: #008080; text-decoration-color: #008080; font-weight: bold\">0.016</span><span style=\"color: #000080; text-decoration-color: #000080; font-weight: bold\"> K (calabrese2025theatacamacosmology chunk </span><span style=\"color: #008080; text-decoration-color: #008080; font-weight: bold\">2</span><span style=\"color: #000080; text-decoration-color: #000080; font-weight: bold\">, </span>                         \n",
       "<span style=\"color: #7fbfbf; text-decoration-color: #7fbfbf\">           </span><span style=\"color: #000080; text-decoration-color: #000080; font-weight: bold\">calabrese2025theatacamacosmology chunk </span><span style=\"color: #008080; text-decoration-color: #008080; font-weight: bold\">22</span><span style=\"color: #000080; text-decoration-color: #000080; font-weight: bold\">).</span>                                                             \n",
       "</pre>\n"
      ],
      "text/plain": [
       "\u001b[2;36m[21:06:17]\u001b[0m\u001b[2;36m \u001b[0m\u001b[1;34mAnswer: The CMB monopole temperature at the \u001b[0m\u001b[1;36m68\u001b[0m\u001b[1;34m% confidence level \u001b[0m\u001b[1;34m(\u001b[0m\u001b[1;34mCL\u001b[0m\u001b[1;34m)\u001b[0m\u001b[1;34m, according to the P-ACT-LB \u001b[0m       \n",
       "\u001b[2;36m           \u001b[0m\u001b[1;34mdataset, is T_CMB = \u001b[0m\u001b[1;36m2.698\u001b[0m\u001b[1;34m ± \u001b[0m\u001b[1;36m0.016\u001b[0m\u001b[1;34m K \u001b[0m\u001b[1;34m(\u001b[0m\u001b[1;34mcalabrese2025theatacamacosmology chunk \u001b[0m\u001b[1;36m2\u001b[0m\u001b[1;34m, \u001b[0m                         \n",
       "\u001b[2;36m           \u001b[0m\u001b[1;34mcalabrese2025theatacamacosmology chunk \u001b[0m\u001b[1;36m22\u001b[0m\u001b[1;34m)\u001b[0m\u001b[1;34m.\u001b[0m                                                             \n"
>>>>>>> April
      ]
     },
     "metadata": {},
     "output_type": "display_data"
    },
    {
     "name": "stdout",
     "output_type": "stream",
     "text": [
<<<<<<< HEAD
      "CPU times: user 964 ms, sys: 187 ms, total: 1.15 s\n",
      "Wall time: 17.7 s\n"
=======
      "CPU times: user 5.96 s, sys: 688 ms, total: 6.65 s\n",
      "Wall time: 2min 15s\n"
>>>>>>> April
     ]
    }
   ],
   "source": [
    "%%time\n",
    "qid = 104\n",
    "question = qa['question'].iloc[qid]\n",
    "response = scirag.get_response(question)\n"
   ]
  },
  {
   "cell_type": "code",
<<<<<<< HEAD
   "execution_count": 9,
=======
   "execution_count": 51,
   "metadata": {},
   "outputs": [],
   "source": [
    "qid = 103"
   ]
  },
  {
   "cell_type": "code",
   "execution_count": 52,
>>>>>>> April
   "metadata": {},
   "outputs": [
    {
     "data": {
      "text/markdown": [
       "What is the CMB monopole temperature at the 68% CL, according to the P-ACT-LB dataset?"
      ],
      "text/plain": [
       "<IPython.core.display.Markdown object>"
      ]
     },
     "metadata": {},
     "output_type": "display_data"
    }
   ],
   "source": [
    "display(Markdown(question))"
   ]
  },
  {
   "cell_type": "code",
<<<<<<< HEAD
   "execution_count": 10,
=======
   "execution_count": 50,
>>>>>>> April
   "metadata": {},
   "outputs": [
    {
     "data": {
      "text/markdown": [
<<<<<<< HEAD
       "**Answer**:\n",
       "\n",
       "The impact of beam window functions on the 2018 spectra in the baseline Plik likelihood is small, approximately 0.1% at ℓ=2000, due to a new approach that applies beam window functions calculated for the specific sky fraction retained at each frequency . However, the context also indicates that while the influence of beam window functions is acknowledged, explicit quantitative details on their overall impact are not provided .\n",
       "\n",
       "**Sources**:\n",
       "\n",
       "aghanim2020<i>planck<i>2018results chunk 8, aghanim2020<i>planck<i>2018results chunk 7\n"
=======
       "No. The range of H_0 given by the models studied in the ACT DR6 paper is still lower than the 2024 SH0ES measurement of H_0."
>>>>>>> April
      ],
      "text/plain": [
       "<IPython.core.display.Markdown object>"
      ]
     },
     "metadata": {},
     "output_type": "display_data"
    }
   ],
   "source": [
    "display(Markdown(qa['ideal'].iloc[qid]))"
   ]
  },
  {
   "cell_type": "code",
<<<<<<< HEAD
   "execution_count": 11,
=======
   "execution_count": 8,
>>>>>>> April
   "metadata": {},
   "outputs": [
    {
     "data": {
      "text/plain": [
       "'p25; sec5.4'"
      ]
     },
<<<<<<< HEAD
     "execution_count": 11,
     "metadata": {},
     "output_type": "execute_result"
    }
   ],
   "source": [
    "qa['ideal'].iloc[qid]"
   ]
  },
  {
   "cell_type": "code",
   "execution_count": 12,
   "metadata": {},
   "outputs": [
    {
     "data": {
      "text/plain": [
       "'p6; sec2.2.1'"
      ]
     },
     "execution_count": 12,
=======
     "execution_count": 8,
>>>>>>> April
     "metadata": {},
     "output_type": "execute_result"
    }
   ],
   "source": [
    "\n",
    "qa['Location'].iloc[qid]"
   ]
  }
 ],
 "metadata": {
  "kernelspec": {
   "display_name": "myenv",
   "language": "python",
   "name": "python3"
  },
  "language_info": {
   "codemirror_mode": {
    "name": "ipython",
    "version": 3
   },
   "file_extension": ".py",
   "mimetype": "text/x-python",
   "name": "python",
   "nbconvert_exporter": "python",
   "pygments_lexer": "ipython3",
   "version": "3.11.11"
  }
 },
 "nbformat": 4,
 "nbformat_minor": 2
}
