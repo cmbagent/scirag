{
 "cells": [
  {
   "cell_type": "code",
   "execution_count": 1,
   "metadata": {},
   "outputs": [],
   "source": [
    "import os\n",
    "from dotenv import load_dotenv\n",
    "load_dotenv()\n",
    "os.environ[\"GOOGLE_APPLICATION_CREDENTIALS\"] = \"gemini.json\"\n",
    "\n",
    "api_key = os.environ.get(\"OPENAI_API_KEY\")\n",
    "if api_key is None:\n",
    "    raise RuntimeError(\"Please set the OPENAI_API_KEY \")"
   ]
  },
  {
   "cell_type": "code",
   "execution_count": 2,
   "metadata": {},
   "outputs": [
    {
     "name": "stderr",
     "output_type": "stream",
     "text": [
      "/Users/apple/opt/anaconda3/envs/myenv/lib/python3.11/site-packages/tqdm/auto.py:21: TqdmWarning: IProgress not found. Please update jupyter and ipywidgets. See https://ipywidgets.readthedocs.io/en/stable/user_install.html\n",
      "  from .autonotebook import tqdm as notebook_tqdm\n"
     ]
    }
   ],
   "source": [
    "from scirag import MistralOCRProcessor\n"
   ]
  },
  {
   "cell_type": "code",
   "execution_count": 5,
   "metadata": {},
   "outputs": [
    {
     "name": "stdout",
     "output_type": "stream",
     "text": [
      "Uploading PDF: 2201.02202v1.pdf\n",
      "Processing PDF with OCR...\n",
      "Saved Markdown output to /Users/apple/Documents/GitHub/scirag_paperqa/scirag/markdowns/2201.02202v1.md\n",
      "Saved text output to /Users/apple/Documents/GitHub/scirag_paperqa/scirag/markdowns/2201.02202v1.txt\n",
      "Processed 26 pages\n"
     ]
    }
   ],
   "source": [
    "# Initialize processor\n",
    "processor = MistralOCRProcessor()\n",
    "\n",
    "# Process single PDF\n",
    "result = processor.process_single_pdf(\n",
    "    pdf_path=\"../pdfs/2201.02202v1.pdf\",\n",
    "    save_markdown=True,  # Save .md file\n",
    "    save_json=False,       # Save .json file\n",
    "    save_text=False,\n",
    "    output_dir=\"../markdowns\"\n",
    ")\n",
    "\n",
    "print(f\"Processed {result['num_pages']} pages\")"
   ]
  }
 ],
 "metadata": {
  "kernelspec": {
   "display_name": "myenv",
   "language": "python",
   "name": "python3"
  },
  "language_info": {
   "codemirror_mode": {
    "name": "ipython",
    "version": 3
   },
   "file_extension": ".py",
   "mimetype": "text/x-python",
   "name": "python",
   "nbconvert_exporter": "python",
   "pygments_lexer": "ipython3",
   "version": "3.11.11"
  }
 },
 "nbformat": 4,
 "nbformat_minor": 2
}
