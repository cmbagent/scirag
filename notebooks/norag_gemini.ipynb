{
 "cells": [
  {
   "cell_type": "code",
   "execution_count": 1,
   "id": "bb94656f",
   "metadata": {},
   "outputs": [],
   "source": [
    "import os\n",
    "from dotenv import load_dotenv\n",
    "load_dotenv()\n",
    "os.environ[\"GOOGLE_APPLICATION_CREDENTIALS\"] = \"gemini.json\"\n",
    "\n",
    "api_key = os.environ.get(\"OPENAI_API_KEY\")\n",
    "if api_key is None:\n",
    "    raise RuntimeError(\"Please set the OPENAI_API_KEY \")"
   ]
  },
  {
   "cell_type": "code",
   "execution_count": 2,
   "id": "8335898c",
   "metadata": {},
   "outputs": [
    {
     "name": "stderr",
     "output_type": "stream",
     "text": [
      "/Users/apple/opt/anaconda3/envs/myenv/lib/python3.11/site-packages/pybtex/plugin/__init__.py:26: UserWarning: pkg_resources is deprecated as an API. See https://setuptools.pypa.io/en/latest/pkg_resources.html. The pkg_resources package is slated for removal as early as 2025-11-30. Refrain from using this package or pin to Setuptools<81.\n",
      "  import pkg_resources\n"
     ]
    }
   ],
   "source": [
    "from IPython.display import display, Markdown\n",
    "from scirag import GeminiGroundedAgent, SciRagDataSet\n",
    "\n",
    "scirag = GeminiGroundedAgent()\n",
    "dataset = SciRagDataSet()"
   ]
  },
  {
   "cell_type": "code",
   "execution_count": 3,
   "id": "dfc89265",
   "metadata": {},
   "outputs": [],
   "source": [
    "qa = dataset.load_dataset()"
   ]
  },
  {
   "cell_type": "code",
   "execution_count": 4,
   "id": "3cbad0cc",
   "metadata": {},
   "outputs": [
    {
     "name": "stdout",
     "output_type": "stream",
     "text": [
      "[Request] Generating response...\n",
      "Gemini parsed answer: The impact of beam window functions on the 2018 spectra in the baseline Plik likelihood is negligibl...\n",
      "Gemini parsed sources: ['Planck Collaboration, Planck 2018 results. VI. Cosmological parameters, Astron.Astrophys. 641 (2020) A6']\n",
      "\n",
      "--- Usage Summary ---\n",
      "Model: gemini-2.5-flash-preview-05-20\n",
      "Input tokens: 548\n",
      "Output tokens: 99\n",
      "Total tokens: 647\n",
      "Cost: $0.000429\n",
      "Input cost: $0.000082\n",
      "Output cost: $0.000347 (thinking)\n",
      "--- End Summary ---\n",
      "\n",
      "[Success] Response generated successfully\n",
      "CPU times: user 27.8 ms, sys: 19.6 ms, total: 47.3 ms\n",
      "Wall time: 2.43 s\n"
     ]
    }
   ],
   "source": [
    "%%time\n",
    "qid = 4\n",
    "question = qa['question'].iloc[qid]\n",
    "response = scirag.get_response(question)"
   ]
  },
  {
   "cell_type": "code",
   "execution_count": 5,
   "id": "d73cf065",
   "metadata": {},
   "outputs": [
    {
     "data": {
      "text/markdown": [
       "How large is the impact of beam window functions on the 2018 spectra in the baseline Plik likelihood?"
      ],
      "text/plain": [
       "<IPython.core.display.Markdown object>"
      ]
     },
     "metadata": {},
     "output_type": "display_data"
    }
   ],
   "source": [
    "display(Markdown(question))"
   ]
  },
  {
   "cell_type": "code",
   "execution_count": 6,
   "id": "126691d6",
   "metadata": {},
   "outputs": [
    {
     "data": {
      "text/markdown": [
       "**Answer**:\n",
       "\n",
       "The impact of beam window functions on the 2018 spectra in the baseline Plik likelihood is negligible, typically less than 0.1 sigma for cosmological parameters [1]. This indicates their effect on the derived cosmological parameters is minimal.\n",
       "\n",
       "**Sources**:\n",
       "\n",
       "Planck Collaboration, Planck 2018 results. VI. Cosmological parameters, Astron.Astrophys. 641 (2020) A6\n"
      ],
      "text/plain": [
       "<IPython.core.display.Markdown object>"
      ]
     },
     "metadata": {},
     "output_type": "display_data"
    }
   ],
   "source": [
    "display(Markdown(response))"
   ]
  },
  {
   "cell_type": "code",
   "execution_count": 7,
   "id": "406c7817",
   "metadata": {},
   "outputs": [
    {
     "data": {
      "text/plain": [
       "'approximately 0.1% at l=2000'"
      ]
     },
     "execution_count": 7,
     "metadata": {},
     "output_type": "execute_result"
    }
   ],
   "source": [
    "qa['ideal'].iloc[qid]"
   ]
  },
  {
   "cell_type": "code",
   "execution_count": 8,
   "id": "b11a55ab",
   "metadata": {},
   "outputs": [
    {
     "ename": "AttributeError",
     "evalue": "'GeminiGroundedAgent' object has no attribute 'get_cost_summary'",
     "output_type": "error",
     "traceback": [
      "\u001b[0;31m---------------------------------------------------------------------------\u001b[0m",
      "\u001b[0;31mAttributeError\u001b[0m                            Traceback (most recent call last)",
      "Cell \u001b[0;32mIn[8], line 1\u001b[0m\n\u001b[0;32m----> 1\u001b[0m summary \u001b[38;5;241m=\u001b[39m \u001b[43mscirag\u001b[49m\u001b[38;5;241;43m.\u001b[39;49m\u001b[43mget_cost_summary\u001b[49m()\n\u001b[1;32m      2\u001b[0m \u001b[38;5;28mprint\u001b[39m(\u001b[38;5;124mf\u001b[39m\u001b[38;5;124m\"\u001b[39m\u001b[38;5;124mTotal cost: $\u001b[39m\u001b[38;5;132;01m{\u001b[39;00msummary[\u001b[38;5;124m'\u001b[39m\u001b[38;5;124mtotal_cost\u001b[39m\u001b[38;5;124m'\u001b[39m]\u001b[38;5;132;01m:\u001b[39;00m\u001b[38;5;124m.6f\u001b[39m\u001b[38;5;132;01m}\u001b[39;00m\u001b[38;5;124m\"\u001b[39m)\n",
      "\u001b[0;31mAttributeError\u001b[0m: 'GeminiGroundedAgent' object has no attribute 'get_cost_summary'"
     ]
    }
   ],
   "source": [
    "summary = scirag.get_cost_summary()\n",
    "print(f\"Total cost: ${summary['total_cost']:.6f}\")"
   ]
  }
 ],
 "metadata": {
  "kernelspec": {
   "display_name": "myenv",
   "language": "python",
   "name": "python3"
  },
  "language_info": {
   "codemirror_mode": {
    "name": "ipython",
    "version": 3
   },
   "file_extension": ".py",
   "mimetype": "text/x-python",
   "name": "python",
   "nbconvert_exporter": "python",
   "pygments_lexer": "ipython3",
   "version": "3.11.11"
  }
 },
 "nbformat": 4,
 "nbformat_minor": 5
}
